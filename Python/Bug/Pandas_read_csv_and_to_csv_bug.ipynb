{
 "cells": [
  {
   "cell_type": "markdown",
   "id": "37c7d114",
   "metadata": {},
   "source": [
    "Original file is `original.txt`, now we try to read and re-save the file using differernt ways."
   ]
  },
  {
   "cell_type": "code",
   "execution_count": 1,
   "id": "046fe8e6",
   "metadata": {},
   "outputs": [
    {
     "name": "stdout",
     "output_type": "stream",
     "text": [
      "Python version: 3.7.12 | packaged by conda-forge | (default, Oct 26 2021, 05:37:49) [MSC v.1916 64 bit (AMD64)]\n",
      "Pandas version: 1.3.5\n"
     ]
    }
   ],
   "source": [
    "import csv\n",
    "import pandas as pd\n",
    "import numpy as np\n",
    "import sys\n",
    "\n",
    "\n",
    "# Print Python version\n",
    "print(\"Python version:\", sys.version)\n",
    "\n",
    "# Print Pandas version\n",
    "print(\"Pandas version:\", pd.__version__)\n",
    "\n",
    "original_file = \"original.txt\"\n",
    "test1_file = \"test1_normal.txt\"\n",
    "test2_file = \"test2_read_csv.txt\"\n",
    "test3_file = \"test3_to_csv.txt\"\n",
    "test4_file = \"test4_both_read_write.txt\""
   ]
  },
  {
   "cell_type": "markdown",
   "id": "150b00ec",
   "metadata": {},
   "source": [
    "### Mehod 1: read and write using the normal way"
   ]
  },
  {
   "cell_type": "code",
   "execution_count": 2,
   "id": "03df5e5e",
   "metadata": {},
   "outputs": [],
   "source": [
    "with open(original_file, 'r') as f:\n",
    "    with open(test1_file, 'w') as w:\n",
    "        for line in f:\n",
    "            line = line.replace(\"\\n\", \"\").split(\"\\t\")\n",
    "            line = \"\\t\".join(line)\n",
    "            w.write(line + \"\\n\")"
   ]
  },
  {
   "cell_type": "markdown",
   "id": "6065985f",
   "metadata": {},
   "source": [
    "### Method 2: read using pd.read_csv"
   ]
  },
  {
   "cell_type": "code",
   "execution_count": 3,
   "id": "92321889",
   "metadata": {},
   "outputs": [],
   "source": [
    "df = pd.read_csv(original_file, sep='\\t', encoding='utf-8-sig')\n",
    "header = df.columns.tolist()\n",
    "header = '\\t'.join(header)\n",
    "with open(test2_file, 'w') as w:\n",
    "    w.write(header + \"\\n\")\n",
    "    for i in range(len(df)):\n",
    "        row = df.loc[i, :].values.tolist()\n",
    "        row = [str(i) for i in row]\n",
    "        w.write('\\t'.join(row) + \"\\n\")"
   ]
  },
  {
   "cell_type": "markdown",
   "id": "99d75ce7",
   "metadata": {},
   "source": [
    "###  Method 3: write using pd.to_csv"
   ]
  },
  {
   "cell_type": "code",
   "execution_count": 4,
   "id": "19d9640d",
   "metadata": {},
   "outputs": [],
   "source": [
    "def write_row_to_file(file_name, row, delimiter='\\t'):\n",
    "    with open(file_name, 'a+', newline=\"\", encoding='utf-8') as f:\n",
    "        writer = csv.writer(f, delimiter=delimiter)\n",
    "        writer.writerow(row)"
   ]
  },
  {
   "cell_type": "code",
   "execution_count": 5,
   "id": "d50931da",
   "metadata": {},
   "outputs": [],
   "source": [
    "with open(original_file, 'r') as f:\n",
    "    for line in f:\n",
    "        line = line.replace(\"\\n\", \"\").split(\"\\t\")\n",
    "        write_row_to_file(test3_file, line, delimiter='\\t')"
   ]
  },
  {
   "cell_type": "markdown",
   "id": "2ef77a9e",
   "metadata": {},
   "source": [
    "### Method 4: read and write using pandas"
   ]
  },
  {
   "cell_type": "code",
   "execution_count": 6,
   "id": "3db170b3",
   "metadata": {},
   "outputs": [],
   "source": [
    "df4 = pd.read_csv(original_file, sep='\\t', encoding='utf-8-sig')\n",
    "df4.to_csv(test4_file, sep='\\t', index=False, header=True, encoding='utf-8-sig', line_terminator='\\n')"
   ]
  },
  {
   "cell_type": "markdown",
   "id": "13c11e38",
   "metadata": {},
   "source": [
    "### Test the length of each line"
   ]
  },
  {
   "cell_type": "code",
   "execution_count": 7,
   "id": "515273b6",
   "metadata": {},
   "outputs": [],
   "source": [
    "def print_line_length(file_name):\n",
    "    _file = open(file_name, 'r', encoding='utf-8')\n",
    "    print(f\"\\n{file_name}:\")\n",
    "    for i in range(2):\n",
    "        _len = len(_file.readline())\n",
    "        print(f\"* line {i}: length is {_len}\")"
   ]
  },
  {
   "cell_type": "code",
   "execution_count": 8,
   "id": "7d211781",
   "metadata": {},
   "outputs": [
    {
     "name": "stdout",
     "output_type": "stream",
     "text": [
      "\n",
      "original.txt:\n",
      "* line 0: length is 172\n",
      "* line 1: length is 79\n",
      "\n",
      "test1_normal.txt:\n",
      "* line 0: length is 172\n",
      "* line 1: length is 79\n",
      "\n",
      "test2_read_csv.txt:\n",
      "* line 0: length is 172\n",
      "* line 1: length is 78\n",
      "\n",
      "test3_to_csv.txt:\n",
      "* line 0: length is 172\n",
      "* line 1: length is 79\n",
      "\n",
      "test4_both_read_write.txt:\n",
      "* line 0: length is 173\n",
      "* line 1: length is 78\n"
     ]
    }
   ],
   "source": [
    "print_line_length(original_file)\n",
    "print_line_length(test1_file)\n",
    "print_line_length(test2_file)\n",
    "print_line_length(test3_file)\n",
    "print_line_length(test4_file)"
   ]
  },
  {
   "cell_type": "markdown",
   "id": "330f2742",
   "metadata": {},
   "source": [
    "From the results, we can see the `test2_read_csv.txt` and `test4_both_read_write.txt` have different resluts. Let's look at the first charactor of each line:"
   ]
  },
  {
   "cell_type": "code",
   "execution_count": 9,
   "id": "0f3ab12a",
   "metadata": {},
   "outputs": [
    {
     "name": "stdout",
     "output_type": "stream",
     "text": [
      "\n",
      "For original_file, the length of row 0 is 172. The fisrt charactor is c\n",
      "For test4_file, the length of row 0 is 173. The fisrt charactor is ﻿\n",
      "\n",
      "For original_file, the length of row 1 is 79. The fisrt charactor is R\n",
      "For test4_file, the length of row 1 is 78. The fisrt charactor is R\n"
     ]
    }
   ],
   "source": [
    "with open(original_file, 'r') as f1, open(test4_file, 'r') as f2:\n",
    "    for i, (line1, line2) in enumerate(zip(f1, f2)):\n",
    "        print(f\"\\nFor original_file, the length of row {i} is {len(line1)}. The fisrt charactor is {line1[0]}\")\n",
    "        print(f\"For test4_file, the length of row {i} is {len(line2)}. The fisrt charactor is {line2[0]}\")\n",
    "        if i == 1: break"
   ]
  },
  {
   "cell_type": "markdown",
   "id": "cd517338",
   "metadata": {},
   "source": [
    "### Compare the two lines"
   ]
  },
  {
   "cell_type": "code",
   "execution_count": 10,
   "id": "ae338dfe",
   "metadata": {},
   "outputs": [],
   "source": [
    "import difflib\n",
    "def compare_strings_with_difflib(str1, str2):\n",
    "    d = difflib.Differ()\n",
    "    diff = list(d.compare(str1, str2))\n",
    "    return diff"
   ]
  },
  {
   "cell_type": "code",
   "execution_count": 11,
   "id": "e9502f16",
   "metadata": {},
   "outputs": [
    {
     "name": "stdout",
     "output_type": "stream",
     "text": [
      "\n",
      "For Row 0: s1 is conti, s2 is ﻿cont\n",
      "+ ﻿\n",
      "  c\n",
      "  o\n",
      "  n\n",
      "  t\n",
      "- i\n",
      "\n",
      "For Row 1: s1 is R2_55_2\t7\tAGCTG\t2\tt\t1\t113.21\t3.874\t0.00730\tAGCTG\t117.44\t3.55\t-1.06\t30669\t30691\n",
      ", s2 is R2_55_2\t7\tAGCTG\t2\tt\t1\t113.21\t3.874\t0.0073\tAGCTG\t117.44\t3.55\t-1.06\t30669\t30691\n",
      "\n",
      "  R\n",
      "  2\n",
      "  _\n",
      "  5\n",
      "  5\n",
      "  _\n",
      "  2\n",
      "  \t\n",
      "  7\n",
      "  \t\n",
      "  A\n",
      "  G\n",
      "  C\n",
      "  T\n",
      "  G\n",
      "  \t\n",
      "  2\n",
      "  \t\n",
      "  t\n",
      "  \t\n",
      "  1\n",
      "  \t\n",
      "  1\n",
      "  1\n",
      "  3\n",
      "  .\n",
      "  2\n",
      "  1\n",
      "  \t\n",
      "  3\n",
      "  .\n",
      "  8\n",
      "  7\n",
      "  4\n",
      "  \t\n",
      "  0\n",
      "  .\n",
      "  0\n",
      "  0\n",
      "  7\n",
      "  3\n",
      "- 0\n",
      "  \t\n",
      "  A\n",
      "  G\n",
      "  C\n",
      "  T\n",
      "  G\n",
      "  \t\n",
      "  1\n",
      "  1\n",
      "  7\n",
      "  .\n",
      "  4\n",
      "  4\n",
      "  \t\n",
      "  3\n",
      "  .\n",
      "  5\n",
      "  5\n",
      "  \t\n",
      "  -\n",
      "  1\n",
      "  .\n",
      "  0\n",
      "  6\n",
      "  \t\n",
      "  3\n",
      "  0\n",
      "  6\n",
      "  6\n",
      "  9\n",
      "  \t\n",
      "  3\n",
      "  0\n",
      "  6\n",
      "  9\n",
      "  1\n",
      "  \n",
      "\n"
     ]
    }
   ],
   "source": [
    "with open(original_file, 'r') as f1, open(test4_file, 'r') as f2:\n",
    "    for i, (line1, line2) in enumerate(zip(f1, f2)):\n",
    "        if i == 0:\n",
    "            s1 = line1[0:5]\n",
    "            s2 = line2[0:5]\n",
    "            print(f\"\\nFor Row {i}: s1 is {s1}, s2 is {s2}\")\n",
    "            differences = compare_strings_with_difflib(s1, s2)\n",
    "            print('\\n'.join(differences))\n",
    "        if i == 1: \n",
    "            s1 = line1\n",
    "            s2 = line2\n",
    "            print(f\"\\nFor Row {i}: s1 is {s1}, s2 is {s2}\")\n",
    "            differences = compare_strings_with_difflib(s1, s2)\n",
    "            print('\\n'.join(differences))\n",
    "            break"
   ]
  },
  {
   "cell_type": "markdown",
   "id": "852f4c32",
   "metadata": {},
   "source": [
    "### Why different?"
   ]
  },
  {
   "cell_type": "markdown",
   "id": "e9fa588d",
   "metadata": {},
   "source": [
    "If you use `pd.read_csv`, it will convert the `0.00730` to `0.0073`."
   ]
  },
  {
   "cell_type": "markdown",
   "id": "c292311b",
   "metadata": {},
   "source": [
    "If you use `df.to_csv` to save the whole dataframe to a file, though set `index=False,` it still have a blank before the header. Using the `len(file.readline())` can see the blank."
   ]
  }
 ],
 "metadata": {
  "kernelspec": {
   "display_name": "Python 3 (bioinfo37)",
   "language": "python",
   "name": "bioinfo37"
  },
  "language_info": {
   "codemirror_mode": {
    "name": "ipython",
    "version": 3
   },
   "file_extension": ".py",
   "mimetype": "text/x-python",
   "name": "python",
   "nbconvert_exporter": "python",
   "pygments_lexer": "ipython3",
   "version": "3.7.12"
  }
 },
 "nbformat": 4,
 "nbformat_minor": 5
}
